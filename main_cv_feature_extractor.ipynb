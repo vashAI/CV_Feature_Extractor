{
 "cells": [
  {
   "cell_type": "code",
   "execution_count": null,
   "metadata": {},
   "outputs": [],
   "source": [
    "# The following packages are needed for this project \n",
    "# --------------------------------------------------------------------------------------------------------------\n",
    "# openai:       For using OpenAI’s language models to enable natural language processing \n",
    "#               and text generation.\n",
    "# --------------------------------------------------------------------------------------------------------------\n",
    "# pdfplumber:   For extracting text, tables, and data from PDF files for analysis and \n",
    "#               processing.\n",
    "# --------------------------------------------------------------------------------------------------------------\n",
    "# ipython:      Using Markdown from this package for visualizing and formatting text more \n",
    "#               easily, especially useful in creating structured and styled documents and \n",
    "#               web content.\n",
    "# --------------------------------------------------------------------------------------------------------------\n",
    "!pip install openai pdfplumber ipython\n"
   ]
  },
  {
   "cell_type": "code",
   "execution_count": 4,
   "metadata": {},
   "outputs": [],
   "source": [
    "# Importing the previously presented packages\n",
    "from openai import OpenAI\n",
    "import pdfplumber\n",
    "from IPython.display import display, Markdown, clear_output"
   ]
  },
  {
   "cell_type": "code",
   "execution_count": 5,
   "metadata": {},
   "outputs": [],
   "source": [
    "# Reads and returns the text content of a PDF file using pdfplumber.\n",
    "def read_pdf(file_path):\n",
    "    document_text = \"\"\n",
    "    with pdfplumber.open(file_path) as pdf:\n",
    "        for page in pdf.pages:\n",
    "            document_text += page.extract_text()\n",
    "    return document_text"
   ]
  },
  {
   "cell_type": "code",
   "execution_count": 7,
   "metadata": {},
   "outputs": [],
   "source": [
    "personal_openai_key = 'YOUR OPENAI KEY'"
   ]
  },
  {
   "cell_type": "code",
   "execution_count": 8,
   "metadata": {},
   "outputs": [],
   "source": [
    "# Initializes the OpenAI client with the provided API key.\n",
    "client = OpenAI(api_key = personal_openai_key)\n",
    "\n",
    "# Replace with the path to your document\n",
    "document_path = 'documents/CV_1.pdf'  \n",
    "\n",
    "# Reads the text content of the specified PDF document.\n",
    "document_text = read_pdf(document_path)"
   ]
  },
  {
   "cell_type": "code",
   "execution_count": 9,
   "metadata": {},
   "outputs": [
    {
     "data": {
      "text/markdown": [
       "A S H L E Y S T O N E\n",
       "Senior Software Engineer\n",
       "CONTACT INFORMATION: PROFESSIONAL SUMMARY:\n",
       "+1 (555) 123-4567 Highly skilled Senior Software Engineer with over 8 years of experience in full-stack\n",
       "ashley.stone@example.com development. Proficient in various programming languages and frameworks, with a\n",
       "linkedin.com/in/ashleystone strong background in system architecture design, database management, and team\n",
       "leadership. Adept at collaborating with cross-functional teams to deliver high-quality\n",
       "SKILLS: software solutions.\n",
       "Programming Languages: Java, WORK EXPERIENCE:\n",
       "JavaScript, Python, SQL\n",
       "Web Development Frameworks: SENIOR SOFTWARE ENGINEER\n",
       "AngularJS, Node.js, Spring Boot Tech Innovations Inc., San Francisco, CA\n",
       "August 2018 - Present\n",
       "Database Technologies: MySQL,\n",
       "MongoDB, PostgreSQL Lead the development team in designing and implementing scalable and efficient\n",
       "Cloud Platforms: AWS, Microsoft software solutions for complex business requirements.\n",
       "Spearhead the migration of legacy systems to modern, cloud-based architectures,\n",
       "Version Control: Git, SVN resulting in improved performance and reduced maintenance costs.\n",
       "Agile Methodologies: Scrum, Collaborate with product managers and stakeholders to define project scopes,\n",
       "Kanban Strong problem-solving prioritize tasks, and ensure timely delivery of features.\n",
       "and analytical skills Mentor junior engineers, conducting code reviews, providing technical guidance,\n",
       "Excellent communication and and fostering a culture of continuous learning and improvement.\n",
       "leadership abilities Implemented CI/CD pipelines to automate the software deployment process,\n",
       "increasing deployment frequency and reducing manual errors.\n",
       "EDUCATION:\n",
       "SOFTWARE ENGINEER\n",
       "Master of Science in Computer CodeCrafters Co., Seattle, WA\n",
       "Science June 2015 - July 2018\n",
       "University of Technology,\n",
       "Innovations, and Science, 2013 Developed web applications using AngularJS and Node.js, contributing to a 30%\n",
       "increase in user engagement and customer satisfaction.\n",
       "LANGUAGES: Designed and optimized SQL databases for efficient data storage and retrieval,\n",
       "reducing query times by 40%.\n",
       "English (Native proficiency) Implemented RESTful APIs for seamless integration between frontend and\n",
       "Spanish (B2) backend systems, improving overall system performance and reliability.\n",
       "Collaborated with cross-functional teams to gather requirements, plan project\n",
       "REFERENCES: timelines, and deliver high-quality software solutions within budget constraints.\n",
       "Conducted unit testing and debugging to ensure the stability and reliability of\n",
       "Available upon request. software applications."
      ],
      "text/plain": [
       "<IPython.core.display.Markdown object>"
      ]
     },
     "metadata": {},
     "output_type": "display_data"
    }
   ],
   "source": [
    "# Displays the loaded text without formatting. \n",
    "# If you want to see the text formatted, you can use the two lines below, commented\n",
    "document_text\n",
    "\n",
    "#print(document_text)\n",
    "display(Markdown(document_text))"
   ]
  },
  {
   "cell_type": "code",
   "execution_count": 23,
   "metadata": {},
   "outputs": [],
   "source": [
    "def ask_openai(document_text, question, openai_key):# Initialize the streaming option\n",
    "  withStreaming = True\n",
    "\n",
    "  # Create a chat completion request using the OpenAI client\n",
    "  response = client.chat.completions.create(\n",
    "    # Specify the model to use (uncomment the desired model)\n",
    "    model = \"gpt-4o-mini\",\n",
    "    # model = \"gpt-3.5-turbo-0125\",\n",
    "    # model = \"gpt-4-turbo\",\n",
    "    # model = \"gpt-4o\",\n",
    "    messages = [\n",
    "      {\"role\": \"system\", \"content\": \"You are an expert in extracting informations from CV.\"},\n",
    "      {\"role\": \"user\", \"content\": f\"\"\"Document: {document_text}\\n\\nQuestion: {question}. \n",
    "      Return the answer in form of Markdown for formatting\"\"\"}\n",
    "    ],\n",
    "    n = 1,  # Number of completions to generate\n",
    "    stop = None,  # Sequence where the API will stop generating further tokens\n",
    "    max_tokens = 2000, # Maximum number of tokens to be generated by the model\n",
    "    temperature = 0.7,  # Sampling temperature\n",
    "    stream = withStreaming  # Enable streaming mode\n",
    "  )\n",
    "\n",
    "  # Check if streaming mode is enabled\n",
    "  if (withStreaming):\n",
    "    collected_messages = []\n",
    "    answer = \"\"\n",
    "    # Initialize display handle for formatted output with Markdown\n",
    "    display_handle = display(Markdown(\"\"), display_id=True)\n",
    "    for chunk in response:\n",
    "        collected_message = chunk.choices[0].delta.content\n",
    "        if (collected_message is not None):\n",
    "          # Append received chunk to the collected messages\n",
    "          collected_messages.append(collected_message)\n",
    "          current_text = ''.join(collected_messages)\n",
    "          # Update the display with the current text in Markdown format\n",
    "          display_handle.update(Markdown(current_text))\n",
    "    # Combine all collected messages into the final answer\n",
    "    answer = ''.join(collected_messages)\n",
    "  else:\n",
    "    # If streaming is disabled, read the output directly\n",
    "    answer = response.choices[0].message.content\n",
    "    # Display the answer\n",
    "    display(Markdown(answer))\n",
    "\n",
    "  return answer"
   ]
  },
  {
   "cell_type": "code",
   "execution_count": 24,
   "metadata": {},
   "outputs": [],
   "source": [
    "# The question you are asking about the document\n",
    "question = \"\"\"\n",
    "Extract the following relevant information from the CV.\n",
    "- Candidate's skills\n",
    "- Experience \n",
    "- Languages \n",
    "- Programming Languages\n",
    "- Certifications\n",
    "- Educational background\n",
    "\"\"\"\n",
    "final_response = ask_openai(document_text, question, personal_openai_key)"
   ]
  },
  {
   "cell_type": "code",
   "execution_count": 27,
   "metadata": {},
   "outputs": [
    {
     "data": {
      "text/markdown": [
       "```json\n",
       "{\n",
       "  \"candidate\": {\n",
       "    \"skills\": {\n",
       "      \"programming_languages\": [\"Java\", \"JavaScript\", \"Python\", \"SQL\"],\n",
       "      \"web_development_frameworks\": [\"AngularJS\", \"Node.js\", \"Spring Boot\"],\n",
       "      \"database_technologies\": [\"MySQL\", \"MongoDB\", \"PostgreSQL\"],\n",
       "      \"cloud_platforms\": [\"AWS\", \"Microsoft\"],\n",
       "      \"version_control\": [\"Git\", \"SVN\"],\n",
       "      \"agile_methodologies\": [\"Scrum\", \"Kanban\"],\n",
       "      \"problem_solving\": true,\n",
       "      \"analytical_skills\": true,\n",
       "      \"communication_skills\": true,\n",
       "      \"leadership_abilities\": true\n",
       "    },\n",
       "    \"experience\": [\n",
       "      {\n",
       "        \"position\": \"Senior Software Engineer\",\n",
       "        \"company\": \"Tech Innovations Inc.\",\n",
       "        \"location\": \"San Francisco, CA\",\n",
       "        \"duration\": \"August 2018 - Present\",\n",
       "        \"responsibilities\": [\n",
       "          \"Lead the development team in designing and implementing scalable and efficient software solutions for complex business requirements.\",\n",
       "          \"Spearhead the migration of legacy systems to modern, cloud-based architectures, resulting in improved performance and reduced maintenance costs.\",\n",
       "          \"Collaborate with product managers and stakeholders to define project scopes, prioritize tasks, and ensure timely delivery of features.\",\n",
       "          \"Mentor junior engineers, conducting code reviews, providing technical guidance, and fostering a culture of continuous learning and improvement.\",\n",
       "          \"Implemented CI/CD pipelines to automate the software deployment process, increasing deployment frequency and reducing manual errors.\"\n",
       "        ]\n",
       "      },\n",
       "      {\n",
       "        \"position\": \"Software Engineer\",\n",
       "        \"company\": \"CodeCrafters Co.\",\n",
       "        \"location\": \"Seattle, WA\",\n",
       "        \"duration\": \"June 2015 - July 2018\",\n",
       "        \"responsibilities\": [\n",
       "          \"Developed web applications using AngularJS and Node.js, contributing to a 30% increase in user engagement and customer satisfaction.\",\n",
       "          \"Designed and optimized SQL databases for efficient data storage and retrieval, reducing query times by 40%.\",\n",
       "          \"Implemented RESTful APIs for seamless integration between frontend and backend systems, improving overall system performance and reliability.\",\n",
       "          \"Collaborated with cross-functional teams to gather requirements, plan project timelines, and deliver high-quality software solutions within budget constraints.\",\n",
       "          \"Conducted unit testing and debugging to ensure the stability and reliability of software applications.\"\n",
       "        ]\n",
       "      }\n",
       "    ],\n",
       "    \"languages\": {\n",
       "      \"English\": \"Native proficiency\",\n",
       "      \"Spanish\": \"B2\"\n",
       "    },\n",
       "    \"coding\": {\n",
       "      \"proficiencies\": [\n",
       "        \"Java\",\n",
       "        \"JavaScript\",\n",
       "        \"Python\",\n",
       "        \"SQL\",\n",
       "        \"AngularJS\",\n",
       "        \"Node.js\",\n",
       "        \"Spring Boot\"\n",
       "      ]\n",
       "    },\n",
       "    \"certifications\": [],\n",
       "    \"education\": {\n",
       "      \"degree\": \"Master of Science in Computer Science\",\n",
       "      \"institution\": \"University of Technology, Innovations, and Science\",\n",
       "      \"duration\": \"2013 - 2015\"\n",
       "    }\n",
       "  }\n",
       "}\n",
       "```"
      ],
      "text/plain": [
       "<IPython.core.display.Markdown object>"
      ]
     },
     "metadata": {},
     "output_type": "display_data"
    }
   ],
   "source": [
    "# The question you are asking about the document\n",
    "question = \"\"\"\n",
    "Extract the following relevant information from the CV and convert it into JSON-format to process it later\n",
    "- Candidate's skills\n",
    "- Experience \n",
    "- Languages \n",
    "- Everything about coding\n",
    "- Certifications\n",
    "- Educational background\n",
    "\"\"\"\n",
    "final_response = ask_openai(document_text, question, personal_openai_key)"
   ]
  },
  {
   "cell_type": "code",
   "execution_count": null,
   "metadata": {},
   "outputs": [],
   "source": []
  }
 ],
 "metadata": {
  "kernelspec": {
   "display_name": "Python 3",
   "language": "python",
   "name": "python3"
  },
  "language_info": {
   "codemirror_mode": {
    "name": "ipython",
    "version": 3
   },
   "file_extension": ".py",
   "mimetype": "text/x-python",
   "name": "python",
   "nbconvert_exporter": "python",
   "pygments_lexer": "ipython3",
   "version": "3.9.6"
  }
 },
 "nbformat": 4,
 "nbformat_minor": 2
}
